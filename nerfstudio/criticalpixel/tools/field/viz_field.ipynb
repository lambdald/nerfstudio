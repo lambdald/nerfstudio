{
 "cells": [
  {
   "cell_type": "code",
   "execution_count": null,
   "metadata": {},
   "outputs": [],
   "source": [
    "x,y,z = field.shape\n",
    "\n",
    "fig, (ax1, ax2, ax3) = plt.subplots(figsize=(13, 3), ncols=3)\n",
    "\n",
    "# plot just the positive data and save the\n",
    "# color \"mappable\" object returned by ax1.imshow\n",
    "yz = ax1.imshow(field[x//2])\n",
    "ax1.set_title('YZ')\n",
    "# add the colorbar using the figure's method,\n",
    "# telling which mappable we're talking about and\n",
    "# which axes object it should be near\n",
    "fig.colorbar(yz, ax=ax1)\n",
    "\n",
    "\n",
    "neg = ax2.imshow(field[:, y//2])\n",
    "fig.colorbar(neg, ax=ax2)\n",
    "ax2.set_title('XZ')\n",
    "\n",
    "# Plot both positive and negative values between +/- 1.2\n",
    "pos_neg_clipped = ax3.imshow(field[..., z//2])\n",
    "# Add minorticks on the colorbar to make it easy to read the\n",
    "# values off the colorbar.\n",
    "cbar = fig.colorbar(pos_neg_clipped)\n",
    "ax3.set_title('XY')\n",
    "plt.show()\n"
   ]
  }
 ],
 "metadata": {
  "language_info": {
   "name": "python"
  }
 },
 "nbformat": 4,
 "nbformat_minor": 2
}
